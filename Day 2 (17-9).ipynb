{
 "cells": [
  {
   "cell_type": "markdown",
   "metadata": {},
   "source": [
    "## Control Statements\n",
    "- Conditional statements\n",
    "    - if-else\n",
    "- iteration statements\n",
    "    - while\n",
    "    - for"
   ]
  },
  {
   "cell_type": "code",
   "execution_count": null,
   "metadata": {},
   "outputs": [],
   "source": [
    "# check if the year is leap year\n",
    "year = int(input(''))\n",
    "if year % 400 == 0 or (year % 400 != 0 and year % 4 == 0 ):\n",
    "    print (\"Leap Year\")\n",
    "else:\n",
    "    print (\"Not a leap year\")"
   ]
  },
  {
   "cell_type": "markdown",
   "metadata": {},
   "source": [
    "## While loop"
   ]
  },
  {
   "cell_type": "code",
   "execution_count": 3,
   "metadata": {},
   "outputs": [
    {
     "name": "stdout",
     "output_type": "stream",
     "text": [
      "Enter the number :12\n",
      "1 2 3 4 5 6 7 8 9 10 11 12 "
     ]
    }
   ],
   "source": [
    "# print numbers from 1 to 10\n",
    "n = int (input('Enter the number :'))\n",
    "i = 1\n",
    "while i <= n :\n",
    "    print (i , end = \" \")\n",
    "    i = i + 1"
   ]
  },
  {
   "cell_type": "code",
   "execution_count": 7,
   "metadata": {},
   "outputs": [
    {
     "name": "stdout",
     "output_type": "stream",
     "text": [
      "Enter a number : 10\n",
      "2 4 6 8 10 \n",
      " 30\n"
     ]
    }
   ],
   "source": [
    "n = int ( input (\"Enter a number : \") )\n",
    "\n",
    "i = 1\n",
    "sum = 0\n",
    "while i <= n:\n",
    "    if ( i % 2 == 0 ):\n",
    "        print (i, end = ' ')\n",
    "        sum = sum + i\n",
    "    i = i + 1\n",
    "print ('\\n',sum)"
   ]
  },
  {
   "cell_type": "code",
   "execution_count": 11,
   "metadata": {},
   "outputs": [
    {
     "name": "stdout",
     "output_type": "stream",
     "text": [
      "Enter a number : 13245\n",
      "5\n",
      "4\n",
      "2\n",
      "3\n",
      "1\n"
     ]
    }
   ],
   "source": [
    "# read a number as input\n",
    "# Output has to be digits of the number\n",
    "\n",
    "n = n = int ( input (\"Enter a number : \") )\n",
    "i = 1\n",
    "while n != 0 :\n",
    "    print (n%10)\n",
    "    n = n // 10"
   ]
  },
  {
   "cell_type": "markdown",
   "metadata": {},
   "source": [
    "## Functional Programming \n",
    "- Simple\n",
    "- Easy Understand\n",
    "- Better Reuseability\n",
    "- Lenghthy Program will be divided into sub programs"
   ]
  },
  {
   "cell_type": "code",
   "execution_count": 14,
   "metadata": {},
   "outputs": [
    {
     "data": {
      "text/plain": [
       "6"
      ]
     },
     "execution_count": 14,
     "metadata": {},
     "output_type": "execute_result"
    }
   ],
   "source": [
    "# read a number\n",
    "# Print the even digit sum from number\n",
    "def evenDigitSum(n):\n",
    "    s = 0\n",
    "    while n != 0:\n",
    "        r = n % 10\n",
    "        if r % 2 == 0 :\n",
    "            s = s + r\n",
    "        n = n // 10\n",
    "    return s\n",
    "evenDigitSum(1234)\n",
    "    "
   ]
  },
  {
   "cell_type": "code",
   "execution_count": 16,
   "metadata": {},
   "outputs": [
    {
     "data": {
      "text/plain": [
       "9"
      ]
     },
     "execution_count": 16,
     "metadata": {},
     "output_type": "execute_result"
    }
   ],
   "source": [
    "def largeNumber(n):\n",
    "    large = 0\n",
    "    while n != 0:\n",
    "        r = n % 10\n",
    "        if r > large:\n",
    "            large = r\n",
    "        n = n // 10\n",
    "    return large\n",
    "largeNumber(19535)\n",
    "    "
   ]
  },
  {
   "cell_type": "code",
   "execution_count": 63,
   "metadata": {},
   "outputs": [
    {
     "name": "stdout",
     "output_type": "stream",
     "text": [
      "Enter number :145\n"
     ]
    },
    {
     "data": {
      "text/plain": [
       "'Yes'"
      ]
     },
     "execution_count": 63,
     "metadata": {},
     "output_type": "execute_result"
    }
   ],
   "source": [
    "def factorial(n):\n",
    "    i = 1\n",
    "    x = 1\n",
    "    while i <= n:\n",
    "        x = x * i\n",
    "        i = i + 1\n",
    "    return x\n",
    "\n",
    "def yesNo(n):\n",
    "    num = n\n",
    "    sum = 0\n",
    "    while n != 0:\n",
    "        r = n % 10\n",
    "        sum = sum + factorial(r)\n",
    "        n = n // 10\n",
    "    if sum == num:\n",
    "        return \"Yes\"\n",
    "    else:\n",
    "        return \"No\"\n",
    "f = int (input('Enter number :'))\n",
    "yesNo(f)\n",
    "    \n",
    "        "
   ]
  },
  {
   "cell_type": "code",
   "execution_count": 4,
   "metadata": {},
   "outputs": [
    {
     "name": "stdout",
     "output_type": "stream",
     "text": [
      "Enter Number  : 2335588\n"
     ]
    },
    {
     "data": {
      "text/plain": [
       "'Not a Palindrome'"
      ]
     },
     "execution_count": 4,
     "metadata": {},
     "output_type": "execute_result"
    }
   ],
   "source": [
    "def palindrome(n):\n",
    "    buffer = n\n",
    "    palin = 0\n",
    "    while n != 0:\n",
    "        r = n % 10\n",
    "        palin = ( palin * 10 ) + r\n",
    "        n = n // 10\n",
    "    if buffer == palin:\n",
    "        return \"Palindrome\"\n",
    "    else:\n",
    "        return \"Not a Palindrome\"\n",
    "n = int (input('Enter Number  : '))\n",
    "palindrome(n)"
   ]
  },
  {
   "cell_type": "markdown",
   "metadata": {},
   "source": [
    "## For loop"
   ]
  },
  {
   "cell_type": "code",
   "execution_count": 7,
   "metadata": {},
   "outputs": [
    {
     "name": "stdout",
     "output_type": "stream",
     "text": [
      "11 12 13 14 15 16 17 18 19 20 21 22 23 24 25 "
     ]
    }
   ],
   "source": [
    "def printSeries(lb,ub):\n",
    "    for x in range(lb,ub+1):\n",
    "        print(x, end = \" \")\n",
    "    return\n",
    "printSeries(11,25)"
   ]
  },
  {
   "cell_type": "code",
   "execution_count": null,
   "metadata": {},
   "outputs": [],
   "source": [
    "def alterNum(lb,ub):\n",
    "    for x in range(lb,ub+1,4):\n",
    "        print(x,end = \" \")\n",
    "    return\n",
    "alterNum(100,150)"
   ]
  },
  {
   "cell_type": "code",
   "execution_count": 5,
   "metadata": {},
   "outputs": [
    {
     "name": "stdout",
     "output_type": "stream",
     "text": [
      "1 2 3 6 \n",
      "\n",
      "1 2 3 4 6 12 "
     ]
    }
   ],
   "source": [
    "def factors(n):\n",
    "    i = 1\n",
    "    for i in range (1,n+1):\n",
    "        if (n % i == 0):\n",
    "            print (i,end=' ')\n",
    "    return\n",
    "factors(6)\n",
    "print ('\\n')\n",
    "factors(12)"
   ]
  },
  {
   "cell_type": "code",
   "execution_count": 20,
   "metadata": {},
   "outputs": [
    {
     "name": "stdout",
     "output_type": "stream",
     "text": [
      "Not a Prime\n"
     ]
    }
   ],
   "source": [
    "def isPrime(n):\n",
    "    flag = 0\n",
    "    for i in range (1,n):\n",
    "        if (n % i == 0):\n",
    "            flag += 1\n",
    "    if flag == 1:\n",
    "        print ('Prime\\n')\n",
    "    else:\n",
    "        print ('Not a Prime')\n",
    "    return\n",
    "isPrime(22)"
   ]
  },
  {
   "cell_type": "code",
   "execution_count": 26,
   "metadata": {},
   "outputs": [
    {
     "name": "stdout",
     "output_type": "stream",
     "text": [
      "2 3 5 7 11 13 17 19 23 29 "
     ]
    }
   ],
   "source": [
    "def isPrime(n):\n",
    "    flag = 0\n",
    "    for i in range (1,n):\n",
    "        if (n % i == 0):\n",
    "            flag += 1\n",
    "    if flag == 1:\n",
    "        return 1\n",
    "    else:\n",
    "        return 0\n",
    "\n",
    "def primeList(n):\n",
    "    for i in range(1,n+1):\n",
    "        if (isPrime(i) == 1):\n",
    "            print (i , end = ' ')\n",
    "    return\n",
    "primeList(30)\n",
    "    "
   ]
  },
  {
   "cell_type": "code",
   "execution_count": 33,
   "metadata": {},
   "outputs": [
    {
     "name": "stdout",
     "output_type": "stream",
     "text": [
      "Enter the lower boundary : 1\n",
      "Enter the upper boundary : 100\n",
      "18\n"
     ]
    }
   ],
   "source": [
    "def isPalindrome(n):\n",
    "    buffer = n\n",
    "    palin = 0\n",
    "    while n != 0:\n",
    "        r = n % 10\n",
    "        palin = ( palin * 10 ) + r\n",
    "        n = n // 10\n",
    "    if buffer == palin:\n",
    "        return 1\n",
    "    else:\n",
    "        return 2\n",
    "def count():\n",
    "    lb = int(input('Enter the lower boundary : '))\n",
    "    ub = int(input('Enter the upper boundary : '))\n",
    "    count = 0\n",
    "    for i in range ( lb , ub ):\n",
    "        if isPalindrome(i) == 1:\n",
    "            count += 1\n",
    "    print (count)       \n",
    "    return\n",
    "count()"
   ]
  },
  {
   "cell_type": "code",
   "execution_count": 45,
   "metadata": {},
   "outputs": [
    {
     "name": "stdout",
     "output_type": "stream",
     "text": [
      "3\n",
      "6\n"
     ]
    }
   ],
   "source": [
    "def zeros(n):\n",
    "    count = 0\n",
    "    while n != 0:\n",
    "        r = n% 10\n",
    "        if r == 0:\n",
    "            count += 1\n",
    "        elif r == 4:\n",
    "            count += 1\n",
    "        elif r == 6:\n",
    "            count += 1\n",
    "        elif r == 8:\n",
    "            count += 2\n",
    "        elif r == 9:\n",
    "            count += 1\n",
    "        n =n // 10\n",
    "    print (count)\n",
    "    return\n",
    "zeros(12854)\n",
    "zeros(888)"
   ]
  },
  {
   "cell_type": "code",
   "execution_count": null,
   "metadata": {},
   "outputs": [],
   "source": [
    "\n"
   ]
  }
 ],
 "metadata": {
  "kernelspec": {
   "display_name": "Python 3",
   "language": "python",
   "name": "python3"
  },
  "language_info": {
   "codemirror_mode": {
    "name": "ipython",
    "version": 3
   },
   "file_extension": ".py",
   "mimetype": "text/x-python",
   "name": "python",
   "nbconvert_exporter": "python",
   "pygments_lexer": "ipython3",
   "version": "3.7.3"
  }
 },
 "nbformat": 4,
 "nbformat_minor": 2
}

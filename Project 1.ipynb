{
 "cells": [
  {
   "cell_type": "code",
   "execution_count": 73,
   "metadata": {},
   "outputs": [],
   "source": [
    "import pandas as pd\n",
    "filepath = 'DataFiles/Match.csv'\n",
    "def readCsvData(filepath):\n",
    "    return pd.read_csv(filepath)\n",
    "df = readCsvData(filepath)"
   ]
  },
  {
   "cell_type": "code",
   "execution_count": 74,
   "metadata": {},
   "outputs": [],
   "source": [
    "import numpy as np\n",
    "import matplotlib.pyplot as plt "
   ]
  },
  {
   "cell_type": "markdown",
   "metadata": {},
   "source": [
    "## Displaying the count of matches based on year"
   ]
  },
  {
   "cell_type": "code",
   "execution_count": 75,
   "metadata": {},
   "outputs": [
    {
     "data": {
      "text/plain": [
       "(637, 17)"
      ]
     },
     "execution_count": 75,
     "metadata": {},
     "output_type": "execute_result"
    }
   ],
   "source": [
    "# displaying total matches played from 2008 to 2017\n",
    "df.shape"
   ]
  },
  {
   "cell_type": "code",
   "execution_count": 76,
   "metadata": {},
   "outputs": [
    {
     "data": {
      "text/plain": [
       "Match_SK        0\n",
       "match_id        0\n",
       "Team1           0\n",
       "Team2           0\n",
       "match_date      0\n",
       "Season_Year     0\n",
       "Venue_Name      1\n",
       "City_Name       0\n",
       "Country_Name    0\n",
       "Toss_Winner     1\n",
       "match_winner    3\n",
       "Toss_Name       1\n",
       "Win_Type        2\n",
       "Outcome_Type    0\n",
       "ManOfMach       4\n",
       "Win_Margin      9\n",
       "Country_id      0\n",
       "dtype: int64"
      ]
     },
     "execution_count": 76,
     "metadata": {},
     "output_type": "execute_result"
    }
   ],
   "source": [
    "df.isnull().sum()"
   ]
  },
  {
   "cell_type": "code",
   "execution_count": 77,
   "metadata": {},
   "outputs": [
    {
     "name": "stdout",
     "output_type": "stream",
     "text": [
      "{2008: 58, 2009: 57, 2010: 60, 2011: 73, 2012: 74, 2013: 76, 2014: 60, 2015: 59, 2016: 60, 2017: 60}\n"
     ]
    }
   ],
   "source": [
    "# Method 1 to finding the no of matches\n",
    "dict = {2008:0,2009:0,2010:0,2011:0,2012:0,2013:0,2014:0,2015:0,2016:0,2017:0}\n",
    "for row in df.values:\n",
    "    if row[5] in dict:\n",
    "        dict[row[5]] += 1\n",
    "print (dict)"
   ]
  },
  {
   "cell_type": "code",
   "execution_count": 78,
   "metadata": {},
   "outputs": [
    {
     "name": "stdout",
     "output_type": "stream",
     "text": [
      "Season_Year\n",
      "2008    58\n",
      "2009    57\n",
      "2010    60\n",
      "2011    73\n",
      "2012    74\n",
      "2013    76\n",
      "2014    60\n",
      "2015    59\n",
      "2016    60\n",
      "2017    60\n",
      "Name: Country_id, dtype: int64\n"
     ]
    }
   ],
   "source": [
    "# Method 2 to finding the no of matches\n",
    "a = df.groupby('Season_Year')['Country_id'].count()\n",
    "print (a)\n"
   ]
  },
  {
   "cell_type": "markdown",
   "metadata": {},
   "source": [
    "## Ploting a bar graph for no. of matches won by each team in the year  2011"
   ]
  },
  {
   "cell_type": "code",
   "execution_count": 144,
   "metadata": {},
   "outputs": [
    {
     "name": "stdout",
     "output_type": "stream",
     "text": [
      "{'Chennai Super Kings': 11, 'Rajasthan Royals': 6, 'Royal Challengers Bangalore': 10, 'Mumbai Indians': 10, 'Pune Warriors': 4, 'Kolkata Knight Riders': 8, 'Kings XI Punjab': 7, 'Deccan Chargers': 6, 'Kochi Tuskers Kerala': 6, 'Delhi Daredevils': 4, 'none': 1}\n"
     ]
    },
    {
     "data": {
      "text/plain": [
       "<BarContainer object of 11 artists>"
      ]
     },
     "execution_count": 144,
     "metadata": {},
     "output_type": "execute_result"
    },
    {
     "data": {
      "image/png": "[encoded data removed]",
      "text/plain": [
       "<Figure size 432x288 with 1 Axes>"
      ]
     },
     "metadata": {
      "needs_background": "light"
     },
     "output_type": "display_data"
    }
   ],
   "source": [
    "# Method 1\n",
    "t2011 = {}\n",
    "df['match_winner'].fillna('none',inplace = True)\n",
    "for row in df.values:\n",
    "    if row[5] == 2011:\n",
    "        if row[10] not in t2011:\n",
    "            t2011[row[10]] = 0 \n",
    "        if row[10] in t2011:\n",
    "            t2011[row[10]] += 1        \n",
    "print(t2011)\n",
    "a = t2011.keys()\n",
    "b = t2011.values()\n",
    "plt.bar(a,b,color = \"#1412cd\",width = 0.3)"
   ]
  },
  {
   "cell_type": "code",
   "execution_count": 145,
   "metadata": {},
   "outputs": [
    {
     "data": {
      "text/plain": [
       "<BarContainer object of 11 artists>"
      ]
     },
     "execution_count": 145,
     "metadata": {},
     "output_type": "execute_result"
    },
    {
     "data": {
      "image/png": "[encoded data removed]",
      "text/plain": [
       "<Figure size 432x288 with 1 Axes>"
      ]
     },
     "metadata": {
      "needs_background": "light"
     },
     "output_type": "display_data"
    }
   ],
   "source": [
    "# method 2\n",
    "b = df[df['Season_Year']==2011].groupby('match_winner')['Country_id'].count()\n",
    "x = b.index.tolist()\n",
    "y = b.values.tolist()\n",
    "plt.bar(x,y,color = \"#1412cd\",width = 0.3)"
   ]
  },
  {
   "cell_type": "markdown",
   "metadata": {},
   "source": [
    "# Print  ManOfMatch count of each player in  Hyderabad stadium"
   ]
  },
  {
   "cell_type": "code",
   "execution_count": 143,
   "metadata": {
    "scrolled": true
   },
   "outputs": [
    {
     "name": "stdout",
     "output_type": "stream",
     "text": [
      "ManOfMach\n",
      "A Mishra             2\n",
      "AB Dinda             1\n",
      "AT Rayudu            1\n",
      "B Kumar              1\n",
      "CH Morris            1\n",
      "DA Warner            6\n",
      "DJ Bravo             1\n",
      "DJG Sammy            1\n",
      "DW Steyn             3\n",
      "G Gambhir            1\n",
      "GH Vihari            2\n",
      "I Sharma             1\n",
      "MJ McClenaghan       1\n",
      "MR Marsh             1\n",
      "Mandeep Singh        1\n",
      "Mustafizur Rahman    1\n",
      "PA Patel             1\n",
      "PC Valthaty          1\n",
      "R Vinay Kumar        1\n",
      "SC Ganguly           1\n",
      "SE Marsh             1\n",
      "SK Raina             2\n",
      "SK Trivedi           1\n",
      "SL Malinga           1\n",
      "UT Yadav             1\n",
      "V Kohli              1\n",
      "V Sehwag             2\n",
      "WP Saha              1\n",
      "YK Pathan            2\n",
      "Name: Country_id, dtype: int64\n"
     ]
    }
   ],
   "source": [
    "r = df[df['City_Name']=='Hyderabad'].groupby('ManOfMach')['Country_id'].count()\n",
    "print(r)"
   ]
  },
  {
   "cell_type": "code",
   "execution_count": null,
   "metadata": {},
   "outputs": [],
   "source": []
  }
 ],
 "metadata": {
  "kernelspec": {
   "display_name": "Python 3",
   "language": "python",
   "name": "python3"
  },
  "language_info": {
   "codemirror_mode": {
    "name": "ipython",
    "version": 3
   },
   "file_extension": ".py",
   "mimetype": "text/x-python",
   "name": "python",
   "nbconvert_exporter": "python",
   "pygments_lexer": "ipython3",
   "version": "3.7.3"
  }
 },
 "nbformat": 4,
 "nbformat_minor": 2
}

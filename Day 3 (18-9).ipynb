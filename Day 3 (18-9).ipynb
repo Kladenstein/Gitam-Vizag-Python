{
 "cells": [
  {
   "cell_type": "markdown",
   "metadata": {},
   "source": [
    "## Programming in Python with Strings\n",
    "- strings\n",
    "- string slicing\n",
    "- Fundamental programs ans examples with strings"
   ]
  },
  {
   "cell_type": "code",
   "execution_count": 2,
   "metadata": {},
   "outputs": [
    {
     "name": "stdout",
     "output_type": "stream",
     "text": [
      "python\n",
      "Programming\n",
      "A\n",
      "<class 'str'>\n",
      "<class 'str'>\n",
      "<class 'str'>\n"
     ]
    }
   ],
   "source": [
    "s1 = \"python\"\n",
    "s2 = 'Programming'\n",
    "s3 = 'A'\n",
    "print(s1)\n",
    "print(s2)\n",
    "print(s3)\n",
    "print(type(s1))\n",
    "print(type(s2))\n",
    "print(type(s3))"
   ]
  },
  {
   "cell_type": "markdown",
   "metadata": {},
   "source": [
    "# slicing"
   ]
  },
  {
   "cell_type": "code",
   "execution_count": 1,
   "metadata": {},
   "outputs": [
    {
     "name": "stdout",
     "output_type": "stream",
     "text": [
      "P\n",
      "y\n",
      "6\n",
      "n\n",
      "nohtyP\n",
      "nhy\n",
      "Py\n",
      "yt\n",
      "thon\n",
      "n\n",
      "yhn\n",
      "ytho\n",
      "Pto\n",
      "Ph\n"
     ]
    }
   ],
   "source": [
    "s1 = 'Python'\n",
    "print ( s1[0] )\n",
    "print ( s1[1] )\n",
    "print (len(s1))\n",
    "print (s1[-1])\n",
    "print (s1[::-1])\n",
    "print (s1[::-2])\n",
    "print (s1[0:2])\n",
    "print (s1[1:3])\n",
    "print (s1[2:])\n",
    "print (s1[-1:])\n",
    "print (s1[1:6:2])\n",
    "print (s1[1:-1])\n",
    "print (s1[::2])\n",
    "print (s1[::3])"
   ]
  },
  {
   "cell_type": "code",
   "execution_count": 86,
   "metadata": {},
   "outputs": [
    {
     "data": {
      "text/plain": [
       "'nohtyP'"
      ]
     },
     "execution_count": 86,
     "metadata": {},
     "output_type": "execute_result"
    }
   ],
   "source": [
    "# string reversal\n",
    "def strRev(s):\n",
    "    return s[::-1]\n",
    "strRev('Python')"
   ]
  },
  {
   "cell_type": "code",
   "execution_count": 87,
   "metadata": {},
   "outputs": [
    {
     "data": {
      "text/plain": [
       "False"
      ]
     },
     "execution_count": 87,
     "metadata": {},
     "output_type": "execute_result"
    }
   ],
   "source": [
    "def isPalindrome(s):\n",
    "    s = str(s)\n",
    "    if s == s[::-1]:\n",
    "        return True\n",
    "    return False\n",
    "isPalindrome(1212)"
   ]
  },
  {
   "cell_type": "code",
   "execution_count": 94,
   "metadata": {},
   "outputs": [
    {
     "name": "stdout",
     "output_type": "stream",
     "text": [
      "P H O N "
     ]
    }
   ],
   "source": [
    "# upper case\n",
    "def upperCase(s):\n",
    "    for i in range (len(s)):\n",
    "        if ord(s[i]) >= 65 and ord(s[i]) <= 90:\n",
    "            print (s[i] , end = ' ')\n",
    "    return\n",
    "upperCase('PytHON')"
   ]
  },
  {
   "cell_type": "code",
   "execution_count": 103,
   "metadata": {},
   "outputs": [
    {
     "name": "stdout",
     "output_type": "stream",
     "text": [
      "SameCount\n",
      "Programming\n"
     ]
    }
   ],
   "source": [
    "# function to return output as \"sameCount\" or \"Programming\"\n",
    "def upperCase(s):\n",
    "    count1 = 0\n",
    "    count2 = 0\n",
    "    for i in range (len(s)):\n",
    "        if ord(s[i]) >= 65 and ord(s[i]) <= 90:\n",
    "            count1 += 1\n",
    "        if ord(s[i]) >= 97 and  ord(s[i]) <= 122:\n",
    "            count2 += 1\n",
    "    if count1 == count2:\n",
    "        return ('SameCount')\n",
    "    else:\n",
    "        return ('Programming')\n",
    "print(upperCase('PyThOn'),end = \"\\n\")\n",
    "print(upperCase('PythoN'))"
   ]
  },
  {
   "cell_type": "code",
   "execution_count": 108,
   "metadata": {},
   "outputs": [
    {
     "name": "stdout",
     "output_type": "stream",
     "text": [
      "1 8 8 9 \n",
      " 26\n"
     ]
    }
   ],
   "source": [
    "# function to extract the digits from the string\n",
    "\n",
    "def digitExtract(s):\n",
    "    count = 0\n",
    "    for i in range (len(s)):\n",
    "        if ord(s[i]) >= 48 and ord(s[i]) <= 57:\n",
    "            print (s[i] , end = \" \")\n",
    "            count += int(s[i])\n",
    "    print (\"\\n\",count )       \n",
    "    return\n",
    "digitExtract('Appli18cation89')\n",
    "    "
   ]
  },
  {
   "cell_type": "code",
   "execution_count": 100,
   "metadata": {},
   "outputs": [
    {
     "name": "stdout",
     "output_type": "stream",
     "text": [
      "P\n",
      "Y\n",
      "T\n",
      "H\n",
      "O\n",
      "N\n"
     ]
    }
   ],
   "source": [
    "# Function to 2nd word in upper case\n",
    "def upperCase(s):\n",
    "    for i in range(len(s)):\n",
    "        if ord(s[i]) ==  32:\n",
    "            j= i+1\n",
    "            while ord(s[j]) != 32:\n",
    "                if ord(s[j]) >= 97 and ord(s[j]) <= 122:\n",
    "                    print ((chr(ord(s[j])-32)))\n",
    "                else:\n",
    "                    print (s[j])\n",
    "                j = j+1\n",
    "            break\n",
    "    return\n",
    "upperCase(\"Learn python strings\")"
   ]
  },
  {
   "cell_type": "markdown",
   "metadata": {},
   "source": [
    "# List"
   ]
  },
  {
   "cell_type": "code",
   "execution_count": 112,
   "metadata": {},
   "outputs": [
    {
     "name": "stdout",
     "output_type": "stream",
     "text": [
      "['Gitam', 123, 45.32]\n",
      "[123, 45.32]\n"
     ]
    }
   ],
   "source": [
    "li = [\"Gitam\" , 123 , 45.32]\n",
    "print (li)\n",
    "del li[0]\n",
    "print (li)"
   ]
  },
  {
   "cell_type": "code",
   "execution_count": 125,
   "metadata": {},
   "outputs": [
    {
     "name": "stdout",
     "output_type": "stream",
     "text": [
      "1 6 27 3 89 25 19 \n",
      "\n",
      "1 6 27 3 89 25 19 \n",
      "\n",
      "89\n",
      "1\n",
      "170\n",
      "24.285714285714285\n"
     ]
    }
   ],
   "source": [
    "li = [1,6,27,3,89,25,19]\n",
    "\n",
    "for i in li:\n",
    "    print (i, end = \" \")\n",
    "print (\"\\n\")\n",
    "for i in range(len(li)):\n",
    "    print (li[i],end = \" \")\n",
    "print (\"\\n\")\n",
    "print (max(li))\n",
    "print (min(li))\n",
    "print (sum(li))\n",
    "print (sum(li)/len(li))"
   ]
  },
  {
   "cell_type": "code",
   "execution_count": 132,
   "metadata": {},
   "outputs": [
    {
     "data": {
      "text/plain": [
       "[1, 43, 2, 3, 4, 5]"
      ]
     },
     "execution_count": 132,
     "metadata": {},
     "output_type": "execute_result"
    }
   ],
   "source": [
    "# Methods n list\n",
    "li = [1,2,3,4,5]\n",
    "li.insert(1,43)\n",
    "li"
   ]
  },
  {
   "cell_type": "code",
   "execution_count": 134,
   "metadata": {},
   "outputs": [
    {
     "data": {
      "text/plain": [
       "[1, 2, 3, 4, 5, 29]"
      ]
     },
     "execution_count": 134,
     "metadata": {},
     "output_type": "execute_result"
    }
   ],
   "source": [
    "li = [1,2,3,4,5]\n",
    "li.append(29)\n",
    "li"
   ]
  },
  {
   "cell_type": "code",
   "execution_count": 139,
   "metadata": {},
   "outputs": [
    {
     "data": {
      "text/plain": [
       "0"
      ]
     },
     "execution_count": 139,
     "metadata": {},
     "output_type": "execute_result"
    }
   ],
   "source": [
    "li = [1,3,3,4,5]\n",
    "li.count(3)             # prints the no of times that value is reapeated\n",
    "li.index(1)             # print the value of index of that value"
   ]
  },
  {
   "cell_type": "code",
   "execution_count": 151,
   "metadata": {},
   "outputs": [
    {
     "data": {
      "text/plain": [
       "5"
      ]
     },
     "execution_count": 151,
     "metadata": {},
     "output_type": "execute_result"
    }
   ],
   "source": [
    "li = [1,2,3,4,5]\n",
    "li.pop()               # pop the last index value"
   ]
  },
  {
   "cell_type": "code",
   "execution_count": 152,
   "metadata": {},
   "outputs": [
    {
     "data": {
      "text/plain": [
       "[1, 2, 3, 4, 5]"
      ]
     },
     "execution_count": 152,
     "metadata": {},
     "output_type": "execute_result"
    }
   ],
   "source": [
    "li = [2,4,3,1,5]\n",
    "li.sort()\n",
    "li"
   ]
  },
  {
   "cell_type": "code",
   "execution_count": 153,
   "metadata": {},
   "outputs": [
    {
     "data": {
      "text/plain": [
       "[1, 2, 3, 4, 5, 1, 2, 3, 4, 5]"
      ]
     },
     "execution_count": 153,
     "metadata": {},
     "output_type": "execute_result"
    }
   ],
   "source": [
    "li = [1,2,3,4,5]\n",
    "li.extend(li)\n",
    "li"
   ]
  },
  {
   "cell_type": "code",
   "execution_count": 154,
   "metadata": {},
   "outputs": [
    {
     "data": {
      "text/plain": [
       "[5, 4, 3, 2, 1]"
      ]
     },
     "execution_count": 154,
     "metadata": {},
     "output_type": "execute_result"
    }
   ],
   "source": [
    "li = [1,2,3,4,5]\n",
    "li.reverse()\n",
    "li"
   ]
  },
  {
   "cell_type": "code",
   "execution_count": 156,
   "metadata": {},
   "outputs": [
    {
     "data": {
      "text/plain": [
       "[1, 2, 4, 5]"
      ]
     },
     "execution_count": 156,
     "metadata": {},
     "output_type": "execute_result"
    }
   ],
   "source": [
    "li = [1,2,3,4,5]\n",
    "li.pop(2)\n",
    "li"
   ]
  },
  {
   "cell_type": "code",
   "execution_count": 160,
   "metadata": {},
   "outputs": [
    {
     "name": "stdout",
     "output_type": "stream",
     "text": [
      "5\n",
      "3\n"
     ]
    }
   ],
   "source": [
    "def largeNumber(li):\n",
    "    return max(li)\n",
    "def genericlarge(li,n):\n",
    "    li.sort()\n",
    "    return li[-n]\n",
    "li = [1,2,3,4,5]\n",
    "print ( largeNumber(li) )\n",
    "print ( genericlarge(li,3) )"
   ]
  },
  {
   "cell_type": "code",
   "execution_count": 165,
   "metadata": {},
   "outputs": [
    {
     "name": "stdout",
     "output_type": "stream",
     "text": [
      "1\n",
      "3\n"
     ]
    }
   ],
   "source": [
    "# function to find the least and generic least number from list\n",
    "def leastNumber(li):\n",
    "    return min(li)\n",
    "def genericleast(li,n):\n",
    "    li.sort()\n",
    "    return li[n-1]\n",
    "li = [1,2,3,4,5]\n",
    "print ( leastNumber(li) )\n",
    "print ( genericleast(li,3) )"
   ]
  },
  {
   "cell_type": "markdown",
   "metadata": {},
   "source": [
    "## File Handling in Python\n",
    "- File : Document which contains some information and resides on permanent devices\n",
    "- Differant types of Files -- .txt .pdf .doc .ppf and etc\n",
    "- input - Keyboard\n",
    "- output - FileSystem"
   ]
  },
  {
   "cell_type": "code",
   "execution_count": 200,
   "metadata": {},
   "outputs": [],
   "source": [
    "# function to create file and write some data to the file \n",
    "# Mode w -- Creates the file and write to some data\n",
    "#        -- If file already exists with same name then it will rewrite the data\n",
    "def createFile(filename):\n",
    "    f = open(filename, 'w')\n",
    "    for i in range(1,11):\n",
    "        f.write('This is %d line\\n' %i)\n",
    "    return\n",
    "    \n",
    "createFile( 'data.txt' )"
   ]
  },
  {
   "cell_type": "code",
   "execution_count": 186,
   "metadata": {},
   "outputs": [
    {
     "data": {
      "text/plain": [
       "'C:\\\\Users\\\\Vishwanath\\\\Desktop\\\\Problem Solving & Programming'"
      ]
     },
     "execution_count": 186,
     "metadata": {},
     "output_type": "execute_result"
    }
   ],
   "source": [
    "pwd"
   ]
  },
  {
   "cell_type": "code",
   "execution_count": 201,
   "metadata": {},
   "outputs": [],
   "source": [
    "# function to Append to a file\n",
    "def appendMode(filename):\n",
    "    f = open(filename , 'a')\n",
    "    f.write('Gitam Vizag\\n')\n",
    "    f.write('Programming language')\n",
    "    return\n",
    "appendMode('data.txt')"
   ]
  },
  {
   "cell_type": "code",
   "execution_count": 212,
   "metadata": {},
   "outputs": [
    {
     "name": "stdout",
     "output_type": "stream",
     "text": [
      "This is 1 line\n",
      "This is 2 line\n",
      "This is 3 line\n",
      "This is 4 line\n",
      "This is 5 line\n",
      "This is 6 line\n",
      "This is 7 line\n",
      "This is 8 line\n",
      "This is 9 line\n",
      "This is 10 line\n",
      "Gitam Vizag\n",
      "Programming language\n"
     ]
    }
   ],
   "source": [
    "# Function  to read  a file\n",
    "def readFileData(filename):\n",
    "    f = open (filename , 'r')\n",
    "    if f.mode == 'r':\n",
    "        a = f.read()\n",
    "        print (a)\n",
    "    f.close()\n",
    "    return\n",
    "readFileData('data.txt')"
   ]
  },
  {
   "cell_type": "markdown",
   "metadata": {},
   "source": [
    "### Analysis on the file -- Word count , Char count , Digit count"
   ]
  },
  {
   "cell_type": "code",
   "execution_count": 280,
   "metadata": {},
   "outputs": [
    {
     "name": "stdout",
     "output_type": "stream",
     "text": [
      "This is 1 line\n",
      "This is 2 line\n",
      "This is 3 line\n",
      "This is 4 line\n",
      "This is 5 line\n",
      "This is 6 line\n",
      "This is 7 line\n",
      "This is 8 line\n",
      "This is 9 line\n",
      "This is 10 line\n",
      "Gitam Vizag\n",
      "Programming language\n"
     ]
    },
    {
     "data": {
      "text/plain": [
       "44"
      ]
     },
     "execution_count": 280,
     "metadata": {},
     "output_type": "execute_result"
    }
   ],
   "source": [
    "def wordCount(filename):\n",
    "    with open(filename,'r') as f:\n",
    "        if f.mode == 'r':\n",
    "            a = f.read()\n",
    "            li = a.split()\n",
    "            print (a)\n",
    "    return len(li)\n",
    "wordCount('data.txt')\n",
    "            "
   ]
  },
  {
   "cell_type": "code",
   "execution_count": 291,
   "metadata": {},
   "outputs": [
    {
     "name": "stdout",
     "output_type": "stream",
     "text": [
      "10\n"
     ]
    }
   ],
   "source": [
    "# Specific word count from file\n",
    "def specificWordCount(filename,word):\n",
    "    with open(filename, 'r') as f:\n",
    "        a = f.read()\n",
    "        li = a.split()\n",
    "        count = 0\n",
    "        x = len(li)\n",
    "        for i in range (0,x):\n",
    "            if word == li[i]:\n",
    "                count += 1\n",
    "        print (count)\n",
    "    return\n",
    "specificWordCount('data.txt','This')"
   ]
  },
  {
   "cell_type": "code",
   "execution_count": 2222,
   "metadata": {},
   "outputs": [
    {
     "data": {
      "text/plain": [
       "183"
      ]
     },
     "execution_count": 2222,
     "metadata": {},
     "output_type": "execute_result"
    }
   ],
   "source": [
    "# function to find the character count from input file\n",
    "def charCount(filename):\n",
    "    with open(filename , 'r') as f:\n",
    "        a = f.read()\n",
    "        li = list(a)\n",
    "    return len(li)\n",
    "charCount('data.txt')"
   ]
  },
  {
   "cell_type": "code",
   "execution_count": 5001,
   "metadata": {},
   "outputs": [
    {
     "data": {
      "text/plain": [
       "12"
      ]
     },
     "execution_count": 5001,
     "metadata": {},
     "output_type": "execute_result"
    }
   ],
   "source": [
    "# line count\n",
    "def lineCount(filename):\n",
    "    with open (filename, 'r') as f:\n",
    "        a = f.read()\n",
    "        li = a.split('\\n')\n",
    "    return len(li)\n",
    "lineCount('data.txt')\n"
   ]
  },
  {
   "cell_type": "code",
   "execution_count": 73,
   "metadata": {},
   "outputs": [
    {
     "name": "stdout",
     "output_type": "stream",
     "text": [
      "116\n",
      "13 "
     ]
    }
   ],
   "source": [
    "# Function to find upper and lower case characters\n",
    "# from input stream\n",
    "\n",
    "def caseCount(filename):\n",
    "    lcount = 0\n",
    "    ucount = 0\n",
    "    with open (filename , 'r') as f:\n",
    "        a = f.read()\n",
    "        li = list(a)\n",
    "        for i in li:\n",
    "            if i.isupper():\n",
    "                ucount += 1\n",
    "            if i.islower():\n",
    "                lcount += 1\n",
    "    print(lcount,end='\\n')\n",
    "    print( ucount , end = ' ')\n",
    "    return\n",
    "caseCount('data.txt')"
   ]
  },
  {
   "cell_type": "code",
   "execution_count": 60,
   "metadata": {},
   "outputs": [
    {
     "name": "stdout",
     "output_type": "stream",
     "text": [
      "programming\n"
     ]
    },
    {
     "ename": "TypeError",
     "evalue": "'str' object does not support item assignment",
     "output_type": "error",
     "traceback": [
      "\u001b[1;31m---------------------------------------------------------------------------\u001b[0m",
      "\u001b[1;31mTypeError\u001b[0m                                 Traceback (most recent call last)",
      "\u001b[1;32m<ipython-input-60-fa2a1d19cf4e>\u001b[0m in \u001b[0;36m<module>\u001b[1;34m\u001b[0m\n\u001b[0;32m     12\u001b[0m     \u001b[1;32mreturn\u001b[0m \u001b[0ma\u001b[0m\u001b[1;33m\u001b[0m\u001b[1;33m\u001b[0m\u001b[0m\n\u001b[0;32m     13\u001b[0m \u001b[1;33m\u001b[0m\u001b[0m\n\u001b[1;32m---> 14\u001b[1;33m \u001b[0malterCase\u001b[0m\u001b[1;33m(\u001b[0m\u001b[1;34m'Python programming is Easy so '\u001b[0m\u001b[1;33m)\u001b[0m\u001b[1;33m\u001b[0m\u001b[1;33m\u001b[0m\u001b[0m\n\u001b[0m",
      "\u001b[1;32m<ipython-input-60-fa2a1d19cf4e>\u001b[0m in \u001b[0;36malterCase\u001b[1;34m(s)\u001b[0m\n\u001b[0;32m      3\u001b[0m     \u001b[1;32mfor\u001b[0m \u001b[0mi\u001b[0m \u001b[1;32min\u001b[0m \u001b[0mrange\u001b[0m\u001b[1;33m(\u001b[0m\u001b[0mlen\u001b[0m\u001b[1;33m(\u001b[0m\u001b[0mli\u001b[0m\u001b[1;33m)\u001b[0m\u001b[1;33m)\u001b[0m\u001b[1;33m:\u001b[0m\u001b[1;33m\u001b[0m\u001b[1;33m\u001b[0m\u001b[0m\n\u001b[0;32m      4\u001b[0m         \u001b[1;32mif\u001b[0m \u001b[0mi\u001b[0m \u001b[1;33m%\u001b[0m \u001b[1;36m2\u001b[0m \u001b[1;33m!=\u001b[0m \u001b[1;36m0\u001b[0m\u001b[1;33m:\u001b[0m\u001b[1;33m\u001b[0m\u001b[1;33m\u001b[0m\u001b[0m\n\u001b[1;32m----> 5\u001b[1;33m             \u001b[0mli\u001b[0m\u001b[1;33m[\u001b[0m\u001b[0mi\u001b[0m\u001b[1;33m]\u001b[0m\u001b[1;33m==\u001b[0m\u001b[0mlowerCase\u001b[0m\u001b[1;33m(\u001b[0m\u001b[0mli\u001b[0m\u001b[1;33m[\u001b[0m\u001b[0mi\u001b[0m\u001b[1;33m]\u001b[0m\u001b[1;33m)\u001b[0m\u001b[1;33m\u001b[0m\u001b[1;33m\u001b[0m\u001b[0m\n\u001b[0m\u001b[0;32m      6\u001b[0m             \u001b[0mprint\u001b[0m \u001b[1;33m(\u001b[0m\u001b[0mli\u001b[0m\u001b[1;33m[\u001b[0m\u001b[0mi\u001b[0m\u001b[1;33m]\u001b[0m\u001b[1;33m)\u001b[0m\u001b[1;33m\u001b[0m\u001b[1;33m\u001b[0m\u001b[0m\n\u001b[0;32m      7\u001b[0m     \u001b[1;32mreturn\u001b[0m\u001b[1;33m\u001b[0m\u001b[1;33m\u001b[0m\u001b[0m\n",
      "\u001b[1;32m<ipython-input-60-fa2a1d19cf4e>\u001b[0m in \u001b[0;36mlowerCase\u001b[1;34m(a)\u001b[0m\n\u001b[0;32m      9\u001b[0m     \u001b[1;32mfor\u001b[0m \u001b[0mi\u001b[0m \u001b[1;32min\u001b[0m \u001b[0mrange\u001b[0m\u001b[1;33m(\u001b[0m\u001b[0mlen\u001b[0m\u001b[1;33m(\u001b[0m\u001b[0ma\u001b[0m\u001b[1;33m)\u001b[0m\u001b[1;33m)\u001b[0m\u001b[1;33m:\u001b[0m\u001b[1;33m\u001b[0m\u001b[1;33m\u001b[0m\u001b[0m\n\u001b[0;32m     10\u001b[0m         \u001b[1;32mif\u001b[0m \u001b[0mord\u001b[0m\u001b[1;33m(\u001b[0m\u001b[0ma\u001b[0m\u001b[1;33m[\u001b[0m\u001b[0mi\u001b[0m\u001b[1;33m]\u001b[0m\u001b[1;33m)\u001b[0m \u001b[1;33m>=\u001b[0m \u001b[1;36m65\u001b[0m \u001b[1;32mand\u001b[0m \u001b[0mord\u001b[0m\u001b[1;33m(\u001b[0m\u001b[0ma\u001b[0m\u001b[1;33m[\u001b[0m\u001b[0mi\u001b[0m\u001b[1;33m]\u001b[0m\u001b[1;33m)\u001b[0m \u001b[1;33m<=\u001b[0m \u001b[1;36m90\u001b[0m\u001b[1;33m:\u001b[0m\u001b[1;33m\u001b[0m\u001b[1;33m\u001b[0m\u001b[0m\n\u001b[1;32m---> 11\u001b[1;33m             \u001b[0ma\u001b[0m\u001b[1;33m[\u001b[0m\u001b[0mi\u001b[0m\u001b[1;33m]\u001b[0m \u001b[1;33m=\u001b[0m \u001b[0mchr\u001b[0m\u001b[1;33m(\u001b[0m\u001b[0mord\u001b[0m\u001b[1;33m(\u001b[0m\u001b[0ma\u001b[0m\u001b[1;33m[\u001b[0m\u001b[0mi\u001b[0m\u001b[1;33m]\u001b[0m\u001b[1;33m)\u001b[0m \u001b[1;33m+\u001b[0m \u001b[1;36m32\u001b[0m\u001b[1;33m)\u001b[0m\u001b[1;33m\u001b[0m\u001b[1;33m\u001b[0m\u001b[0m\n\u001b[0m\u001b[0;32m     12\u001b[0m     \u001b[1;32mreturn\u001b[0m \u001b[0ma\u001b[0m\u001b[1;33m\u001b[0m\u001b[1;33m\u001b[0m\u001b[0m\n\u001b[0;32m     13\u001b[0m \u001b[1;33m\u001b[0m\u001b[0m\n",
      "\u001b[1;31mTypeError\u001b[0m: 'str' object does not support item assignment"
     ]
    }
   ],
   "source": [
    "def alterCase(s):\n",
    "    li = s.split()\n",
    "    for i in range(len(li)):\n",
    "        if i % 2 != 0:\n",
    "            li[i]==lowerCase(li[i])\n",
    "            print (li[i])\n",
    "    return\n",
    "def lowerCase(a):\n",
    "    for i in range(len(a)):\n",
    "        if ord(a[i]) >= 65 and ord(a[i]) <= 90:\n",
    "            a[i] = chr(ord(a[i]) + 32)\n",
    "    return a\n",
    "            \n",
    "alterCase('Python programming is Easy so ')"
   ]
  },
  {
   "cell_type": "code",
   "execution_count": 68,
   "metadata": {},
   "outputs": [
    {
     "name": "stdout",
     "output_type": "stream",
     "text": [
      "p\n"
     ]
    }
   ],
   "source": [
    "a = 'P'\n",
    "b = chr(ord(a) + 32)\n",
    "print(b)"
   ]
  },
  {
   "cell_type": "code",
   "execution_count": null,
   "metadata": {},
   "outputs": [],
   "source": []
  }
 ],
 "metadata": {
  "kernelspec": {
   "display_name": "Python 3",
   "language": "python",
   "name": "python3"
  },
  "language_info": {
   "codemirror_mode": {
    "name": "ipython",
    "version": 3
   },
   "file_extension": ".py",
   "mimetype": "text/x-python",
   "name": "python",
   "nbconvert_exporter": "python",
   "pygments_lexer": "ipython3",
   "version": "3.7.3"
  }
 },
 "nbformat": 4,
 "nbformat_minor": 2
}

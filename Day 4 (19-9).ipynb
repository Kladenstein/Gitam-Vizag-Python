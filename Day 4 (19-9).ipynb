{
 "cells": [
  {
   "cell_type": "markdown",
   "metadata": {},
   "source": [
    "### String Functions\n",
    "- upper() -- will convert string into upper case\n",
    "- lower() -- will convert string into lower case\n",
    "- capitalize() -- makes the string as a title"
   ]
  },
  {
   "cell_type": "code",
   "execution_count": 27,
   "metadata": {},
   "outputs": [
    {
     "name": "stdout",
     "output_type": "stream",
     "text": [
      "PYTHON\n",
      "python\n",
      "Python\n"
     ]
    }
   ],
   "source": [
    "s1=\"python\"\n",
    "print(s1.upper())\n",
    "print(s1.lower())\n",
    "print(s1.capitalize())"
   ]
  },
  {
   "cell_type": "markdown",
   "metadata": {},
   "source": [
    "### String Boolean Functions\n",
    "- True or False\n",
    "- islower() -- True if string have all characters lower case\n",
    "- isupper() -- True if string have all characters upper case\n",
    "- istitle() -- True if string in title case\n",
    "- isnumeric() -- True if string contains all numbers\n",
    "- isalpha() -- True if string contains all characters\n",
    "- isalnum() -- True if string contains any one of alphabets or numbers\n",
    "- isspace() -- True if string contains space"
   ]
  },
  {
   "cell_type": "code",
   "execution_count": 13,
   "metadata": {},
   "outputs": [
    {
     "name": "stdout",
     "output_type": "stream",
     "text": [
      "False\n",
      "True\n"
     ]
    }
   ],
   "source": [
    "s1=\"python\"\n",
    "print(s1.isupper())\n",
    "print(s1.islower())"
   ]
  },
  {
   "cell_type": "code",
   "execution_count": 15,
   "metadata": {},
   "outputs": [
    {
     "name": "stdout",
     "output_type": "stream",
     "text": [
      "True\n"
     ]
    }
   ],
   "source": [
    "s1=\"Python\"\n",
    "print(s1.istitle())"
   ]
  },
  {
   "cell_type": "code",
   "execution_count": 19,
   "metadata": {},
   "outputs": [
    {
     "name": "stdout",
     "output_type": "stream",
     "text": [
      "True\n"
     ]
    }
   ],
   "source": [
    "s1=\"123\"\n",
    "print(s1.isnumeric())"
   ]
  },
  {
   "cell_type": "code",
   "execution_count": 20,
   "metadata": {},
   "outputs": [
    {
     "name": "stdout",
     "output_type": "stream",
     "text": [
      "True\n"
     ]
    }
   ],
   "source": [
    "s1=\"python\"\n",
    "print(s1.isalpha())"
   ]
  },
  {
   "cell_type": "code",
   "execution_count": 22,
   "metadata": {},
   "outputs": [
    {
     "name": "stdout",
     "output_type": "stream",
     "text": [
      "True\n"
     ]
    }
   ],
   "source": [
    "s1=\"123python\"\n",
    "print(s1.isalnum())"
   ]
  },
  {
   "cell_type": "code",
   "execution_count": 25,
   "metadata": {},
   "outputs": [
    {
     "name": "stdout",
     "output_type": "stream",
     "text": [
      "True\n"
     ]
    }
   ],
   "source": [
    "s1=\"        \"\n",
    "print(s1.isspace())"
   ]
  },
  {
   "cell_type": "markdown",
   "metadata": {},
   "source": [
    "### String Methods\n",
    "- split() -- splits the string with spaces\n",
    "- splits('a') -- splits the string withrespect to a\n",
    "- replace() -- returns the string replaces by word/character\n",
    "- join() -- concatenation of two strings"
   ]
  },
  {
   "cell_type": "code",
   "execution_count": 30,
   "metadata": {},
   "outputs": [
    {
     "data": {
      "text/plain": [
       "['python', 'programing', 'learn', 'made', 'easy']"
      ]
     },
     "execution_count": 30,
     "metadata": {},
     "output_type": "execute_result"
    }
   ],
   "source": [
    "s1=\"python programing learn made easy\"\n",
    "li=s1.split()\n",
    "li"
   ]
  },
  {
   "cell_type": "code",
   "execution_count": 31,
   "metadata": {},
   "outputs": [
    {
     "data": {
      "text/plain": [
       "['python progr', 'ming le', 'rn m', 'de e', 'sy']"
      ]
     },
     "execution_count": 31,
     "metadata": {},
     "output_type": "execute_result"
    }
   ],
   "source": [
    "s1=\"python programing learn made easy\"\n",
    "li=s1.split('a')\n",
    "li"
   ]
  },
  {
   "cell_type": "code",
   "execution_count": 39,
   "metadata": {},
   "outputs": [
    {
     "data": {
      "text/plain": [
       "'python progr@ming le@rn m@de e@sy @'"
      ]
     },
     "execution_count": 39,
     "metadata": {},
     "output_type": "execute_result"
    }
   ],
   "source": [
    "s1=\"python programing learn made easy a\"\n",
    "s1.replace('a','@',5)"
   ]
  },
  {
   "cell_type": "code",
   "execution_count": 35,
   "metadata": {},
   "outputs": [
    {
     "name": "stdout",
     "output_type": "stream",
     "text": [
      "p y t h o n\n"
     ]
    }
   ],
   "source": [
    "s1=\"python\"\n",
    "print(\" \".join(s1))"
   ]
  },
  {
   "cell_type": "markdown",
   "metadata": {},
   "source": [
    "### String formatting\n",
    "- Classic Version\n",
    "- Current Version Python"
   ]
  },
  {
   "cell_type": "code",
   "execution_count": 40,
   "metadata": {},
   "outputs": [
    {
     "name": "stdout",
     "output_type": "stream",
     "text": [
      "python programming\n"
     ]
    }
   ],
   "source": [
    "# Classic version (c and c++)\n",
    "li = [\"python\",\"programming\"]\n",
    "print('%s %s'%(li[0],li[1]))"
   ]
  },
  {
   "cell_type": "code",
   "execution_count": 41,
   "metadata": {},
   "outputs": [
    {
     "name": "stdout",
     "output_type": "stream",
     "text": [
      "1 2 3 4\n"
     ]
    }
   ],
   "source": [
    "li=[1,2,3,4]\n",
    "print(\"%d %d %d %d\"%(li[0],li[1],li[2],li[3]))"
   ]
  },
  {
   "cell_type": "code",
   "execution_count": 45,
   "metadata": {},
   "outputs": [
    {
     "name": "stdout",
     "output_type": "stream",
     "text": [
      "List item 0:python\n",
      "List item 1:programming\n"
     ]
    }
   ],
   "source": [
    "li = [\"python\",\"programming\"]\n",
    "print(\"List item 0:{0}\\nList item 1:{1}\".format(li[0],li[1]))"
   ]
  },
  {
   "cell_type": "code",
   "execution_count": 46,
   "metadata": {},
   "outputs": [
    {
     "name": "stdout",
     "output_type": "stream",
     "text": [
      "1 2 3 4\n"
     ]
    }
   ],
   "source": [
    "li=[1,2,3,4]\n",
    "print(\"{0} {1} {2} {3}\".format(li[0],li[1],li[2],li[3]))"
   ]
  },
  {
   "cell_type": "markdown",
   "metadata": {},
   "source": [
    "## Data Structures\n",
    "- List\n",
    "- Tuple\n",
    "- Dictionaries"
   ]
  },
  {
   "cell_type": "markdown",
   "metadata": {},
   "source": [
    "### Dictionaries\n",
    "- It works on concept of unique data\n",
    "- Key,Value is the unique Identifier a Value\n",
    "- Each key is separated from value colon(:)\n",
    "- Each key and value is separeated by comma(,)\n",
    "- Dictionaries are enclosed with curly brackets({})"
   ]
  },
  {
   "cell_type": "code",
   "execution_count": 69,
   "metadata": {},
   "outputs": [
    {
     "name": "stdout",
     "output_type": "stream",
     "text": [
      "{'Name': 'gitam', 'EmailId': 'gitamvizag@gmail.com', 'Address': 'Vizag'}\n"
     ]
    }
   ],
   "source": [
    "d1={\"Name\":\"gitam\",\"EmailId\":\"gitamvizag@gmail.com\",\"Address\":\"Vizag\"}\n",
    "print(d1)"
   ]
  },
  {
   "cell_type": "code",
   "execution_count": 67,
   "metadata": {},
   "outputs": [
    {
     "data": {
      "text/plain": [
       "'gitamvizag@gmail.com'"
      ]
     },
     "execution_count": 67,
     "metadata": {},
     "output_type": "execute_result"
    }
   ],
   "source": [
    "d1[\"EmailId\"]"
   ]
  },
  {
   "cell_type": "code",
   "execution_count": 68,
   "metadata": {},
   "outputs": [
    {
     "data": {
      "text/plain": [
       "{'Name': 'gitam',\n",
       " 'EmailId': 'gitamvizag@gmail.com',\n",
       " 'Address': 'Vizag',\n",
       " 'EmailID': 'Gitam@gmail.com'}"
      ]
     },
     "execution_count": 68,
     "metadata": {},
     "output_type": "execute_result"
    }
   ],
   "source": [
    "d1[\"EmailID\"]=\"Gitam@gmail.com\"#update the value key\n",
    "d1"
   ]
  },
  {
   "cell_type": "code",
   "execution_count": 64,
   "metadata": {},
   "outputs": [
    {
     "data": {
      "text/plain": [
       "{'Name': 'gitam',\n",
       " 'EmailId': 'gitamvizag@gmail.com',\n",
       " 'Address': 'Vizag',\n",
       " 'EmailID': 'Gitam@gmail.com',\n",
       " 'GmailID': 'Gitam@gmail.com'}"
      ]
     },
     "execution_count": 64,
     "metadata": {},
     "output_type": "execute_result"
    }
   ],
   "source": [
    "d1[\"GmailID\"]=\"Gitam@gmail.com\"#adds to the dictionary\n",
    "d1"
   ]
  },
  {
   "cell_type": "code",
   "execution_count": 65,
   "metadata": {},
   "outputs": [
    {
     "data": {
      "text/plain": [
       "dict_keys(['Name', 'EmailId', 'Address', 'EmailID', 'GmailID'])"
      ]
     },
     "execution_count": 65,
     "metadata": {},
     "output_type": "execute_result"
    }
   ],
   "source": [
    "d1.keys()"
   ]
  },
  {
   "cell_type": "code",
   "execution_count": 58,
   "metadata": {},
   "outputs": [
    {
     "data": {
      "text/plain": [
       "dict_values(['gitam', 'Gitam@gmail.com', 'Vizag', 'Gitam@gmail.com'])"
      ]
     },
     "execution_count": 58,
     "metadata": {},
     "output_type": "execute_result"
    }
   ],
   "source": [
    "d1.values()"
   ]
  },
  {
   "cell_type": "markdown",
   "metadata": {},
   "source": [
    "### Contact Application\n",
    "- add contact details"
   ]
  },
  {
   "cell_type": "code",
   "execution_count": 17,
   "metadata": {},
   "outputs": [
    {
     "name": "stdout",
     "output_type": "stream",
     "text": [
      "Details Entered Successfully\n",
      "Details Entered Successfully\n",
      "Name already Exists\n"
     ]
    }
   ],
   "source": [
    "contacts = {}\n",
    "def addContact(name,number):\n",
    "    if name not in contacts:\n",
    "        contacts[name] = number\n",
    "        print ('Details Entered Successfully')\n",
    "    else:\n",
    "        print (\"Name already Exists\")\n",
    "    return\n",
    "addContact('Mani',9849898020)\n",
    "contacts\n",
    "addContact('Ravi', 9848566432)\n",
    "contacts\n",
    "addContact('Ravi',98482665412)"
   ]
  },
  {
   "cell_type": "code",
   "execution_count": 22,
   "metadata": {},
   "outputs": [
    {
     "name": "stdout",
     "output_type": "stream",
     "text": [
      "Dinesh does not exist\n",
      "Mani : 9849898020\n"
     ]
    }
   ],
   "source": [
    "def searchContact(name):\n",
    "    if name in contacts:\n",
    "        print(name,\":\",contacts[name])\n",
    "    else:\n",
    "        print(\"{0} does not exist\".format(name))\n",
    "    return\n",
    "searchContact('Dinesh')\n",
    "searchContact('Mani')\n"
   ]
  },
  {
   "cell_type": "markdown",
   "metadata": {},
   "source": [
    "- .update() -- updates a dictionaries with another dictionary\n",
    "- contacts.update(newContacts)\n",
    "- : adds newContacts details to contacts dictionary"
   ]
  },
  {
   "cell_type": "code",
   "execution_count": 30,
   "metadata": {},
   "outputs": [
    {
     "name": "stdout",
     "output_type": "stream",
     "text": [
      "2 Contacts are added\n"
     ]
    }
   ],
   "source": [
    "# import new contact details\n",
    "# Merge previous details to new details\n",
    "def importContacts(newContacts):\n",
    "    contacts.update(newContacts)\n",
    "    print (len(newContacts.keys()),'Contacts are added')\n",
    "    return\n",
    "newContacts = {\"Gitam\":7654654,\"Ravi\":4465}\n",
    "importContacts(newContacts)"
   ]
  },
  {
   "cell_type": "code",
   "execution_count": 31,
   "metadata": {},
   "outputs": [
    {
     "data": {
      "text/plain": [
       "{'Mani': 9849898020, 'Ravi': 4465, 'Gitam': 7654654}"
      ]
     },
     "execution_count": 31,
     "metadata": {},
     "output_type": "execute_result"
    }
   ],
   "source": [
    "contacts"
   ]
  },
  {
   "cell_type": "code",
   "execution_count": 36,
   "metadata": {},
   "outputs": [
    {
     "name": "stdout",
     "output_type": "stream",
     "text": [
      "dina  Does not exist\n",
      "Mani  Updated succesfully\n"
     ]
    }
   ],
   "source": [
    "def modifyContacts(name,number):\n",
    "    if name in contacts:\n",
    "        contacts[name] = number\n",
    "        print (name , ' Updated succesfully')\n",
    "    else:\n",
    "        print (name,\" Does not exist\")\n",
    "    return\n",
    "modifyContacts('dina', 45454)\n",
    "modifyContacts('Mani',7036615570)"
   ]
  },
  {
   "cell_type": "code",
   "execution_count": 41,
   "metadata": {},
   "outputs": [
    {
     "name": "stdout",
     "output_type": "stream",
     "text": [
      "dina Not in list\n",
      "Mani Not in list\n"
     ]
    },
    {
     "data": {
      "text/plain": [
       "{'Ravi': 4465, 'Gitam': 7654654}"
      ]
     },
     "execution_count": 41,
     "metadata": {},
     "output_type": "execute_result"
    }
   ],
   "source": [
    "def deleteContacts(name):\n",
    "    if name in contacts:\n",
    "        del contacts[name]\n",
    "        print (name,\"Deleted successfully\")\n",
    "    else:\n",
    "        print(name,\"Not in list\")\n",
    "    return\n",
    "deleteContacts('dina')\n",
    "deleteContacts('Mani')\n",
    "contacts"
   ]
  },
  {
   "cell_type": "markdown",
   "metadata": {},
   "source": [
    "## Tuples\n",
    "- Tuples enclosed with ()\n",
    "## Differances between tuples and lists\n",
    "- List are mutable -- can be changed / modify\n",
    "    - read and write data\n",
    "- Tuples are immutable -- cant be changed / modify\n",
    "    - Read only data"
   ]
  },
  {
   "cell_type": "code",
   "execution_count": 42,
   "metadata": {},
   "outputs": [
    {
     "name": "stdout",
     "output_type": "stream",
     "text": [
      "(1, 2, 3, 4, 5)\n"
     ]
    },
    {
     "data": {
      "text/plain": [
       "tuple"
      ]
     },
     "execution_count": 42,
     "metadata": {},
     "output_type": "execute_result"
    }
   ],
   "source": [
    "t1 = (1,2,3,4,5)\n",
    "print (t1)\n",
    "type(t1)"
   ]
  },
  {
   "cell_type": "markdown",
   "metadata": {},
   "source": [
    "### Standard Libraries\n",
    "- Regular Expressions\n",
    "    - To validate the Indian mobile Number\n",
    "    - To validate Email Id\n",
    "    - To validate Username\n",
    "    - To validate Password\n",
    "- Understanding the Regular Expressions\n",
    "    - [0-9] -- Any digit matching\n",
    "    - [a-z] -- Any lowercase matching\n",
    "    - [A-Z] -- Any uppercase matching\n",
    "    - cap symbol is used to represent the start off a regular expression\n",
    "    - dollar symbol is used to represent the end of a regular expression"
   ]
  },
  {
   "cell_type": "code",
   "execution_count": 103,
   "metadata": {},
   "outputs": [
    {
     "name": "stdout",
     "output_type": "stream",
     "text": [
      "True\n",
      "False\n"
     ]
    }
   ],
   "source": [
    "# function to test the two digit number as input\n",
    "import re\n",
    "def twoDigitMatching(n):\n",
    "    pattern = '^[0-9]{2}$'\n",
    "    n = str (n)\n",
    "    if re.match(pattern,n):\n",
    "        return True\n",
    "    return False\n",
    "print(twoDigitMatching(12))\n",
    "print(twoDigitMatching(123))\n"
   ]
  },
  {
   "cell_type": "code",
   "execution_count": 59,
   "metadata": {},
   "outputs": [
    {
     "name": "stdout",
     "output_type": "stream",
     "text": [
      "True\n",
      "False\n",
      "True\n",
      "False\n"
     ]
    }
   ],
   "source": [
    "# Regular Expression for Username\n",
    "# Username -- should contain lower and uppercase characters\n",
    "# Lenght -- Min 5 Max 12\n",
    "def validate(s):\n",
    "    if re.match('^[a-zA-Z]{5,12}$',s):\n",
    "        return True\n",
    "    return False\n",
    "print(validate('Anilk'))\n",
    "print(validate('Anil'))\n",
    "print(validate('AnilKumaraaa'))\n",
    "print(validate('AnilKumaraaaa'))"
   ]
  },
  {
   "cell_type": "markdown",
   "metadata": {},
   "source": [
    "- Regular Expression for rollno\n",
    "- Regular Expression For password\n",
    "    - Parameters : min 6 max 10\n",
    "    - accept lower , upper case characters as well as digits adn spl (@,!,#)\n",
    "    "
   ]
  },
  {
   "cell_type": "code",
   "execution_count": 69,
   "metadata": {},
   "outputs": [
    {
     "data": {
      "text/plain": [
       "True"
      ]
     },
     "execution_count": 69,
     "metadata": {},
     "output_type": "execute_result"
    }
   ],
   "source": [
    "def checkPassword(s):\n",
    "    pattern = '^[a-zA-Z@!#]{6,10}$'\n",
    "    if re.match(pattern,s):\n",
    "        return True\n",
    "    return False\n",
    "checkPassword('Babsoo@')\n"
   ]
  },
  {
   "cell_type": "code",
   "execution_count": 140,
   "metadata": {},
   "outputs": [
    {
     "name": "stdout",
     "output_type": "stream",
     "text": [
      "True\n",
      "False\n",
      "False\n",
      "True\n",
      "True\n"
     ]
    }
   ],
   "source": [
    "# regular expression for Indian mobile number\n",
    "import re\n",
    "def checkNumber(n):\n",
    "    n = str(n)\n",
    "    if re.match('^[+][9][1][6-9][0-9]{9}$|^[0][6-9][0-9]{9}$|^[[6-9][0-9]{9}$',n):\n",
    "        return True\n",
    "    return False\n",
    "print(checkNumber('+919849898020'))\n",
    "print(checkNumber('+9170366055700'))\n",
    "print(checkNumber('+60624734465'))\n",
    "print(checkNumber('9849898020'))\n",
    "print(checkNumber('09848255567'))"
   ]
  },
  {
   "cell_type": "code",
   "execution_count": 164,
   "metadata": {},
   "outputs": [
    {
     "name": "stdout",
     "output_type": "stream",
     "text": [
      "True\n",
      "False\n",
      "True\n"
     ]
    }
   ],
   "source": [
    "# validity of EmailID\n",
    "def checkEmail(s):\n",
    "\n",
    "    pattern = '^[a-zA-Z0-9][a-zA-Z0-9_.]{5,14}[@][a-zA-Z0-9]{3,18}[.][a-z]{2,4}$'\n",
    "    if re.match(pattern,s):\n",
    "        return True\n",
    "    return False\n",
    "print(checkEmail('manipupppala55@gmail.com'))\n",
    "print(checkEmail('acasca678$shdhhdv.dvb'))\n",
    "print(checkEmail('RAKESH_.@4510.qwe'))"
   ]
  },
  {
   "cell_type": "markdown",
   "metadata": {},
   "source": [
    "## Python Graphics\n",
    "- lib-turtle"
   ]
  },
  {
   "cell_type": "markdown",
   "metadata": {},
   "source": [
    "## Packages,Modules and Sub packages\n",
    "-  a collections of modules (single python file)"
   ]
  },
  {
   "cell_type": "code",
   "execution_count": 1,
   "metadata": {},
   "outputs": [
    {
     "data": {
      "text/plain": [
       "123"
      ]
     },
     "execution_count": 1,
     "metadata": {},
     "output_type": "execute_result"
    }
   ],
   "source": [
    "import math\n",
    "math.floor(123.456)"
   ]
  },
  {
   "cell_type": "code",
   "execution_count": 3,
   "metadata": {},
   "outputs": [
    {
     "data": {
      "text/plain": [
       "124"
      ]
     },
     "execution_count": 3,
     "metadata": {},
     "output_type": "execute_result"
    }
   ],
   "source": [
    "math.ceil(123.456)"
   ]
  },
  {
   "cell_type": "code",
   "execution_count": 7,
   "metadata": {},
   "outputs": [
    {
     "data": {
      "text/plain": [
       "3628800"
      ]
     },
     "execution_count": 7,
     "metadata": {},
     "output_type": "execute_result"
    }
   ],
   "source": [
    "from math import factorial as fact\n",
    "fact(10)"
   ]
  },
  {
   "cell_type": "code",
   "execution_count": 14,
   "metadata": {},
   "outputs": [
    {
     "data": {
      "text/plain": [
       "1"
      ]
     },
     "execution_count": 14,
     "metadata": {},
     "output_type": "execute_result"
    }
   ],
   "source": [
    "from math import gcd as gcd\n",
    "gcd(23,27)"
   ]
  },
  {
   "cell_type": "code",
   "execution_count": 1,
   "metadata": {},
   "outputs": [
    {
     "ename": "AttributeError",
     "evalue": "'Turtle' object has no attribute 'done'",
     "output_type": "error",
     "traceback": [
      "\u001b[1;31m---------------------------------------------------------------------------\u001b[0m",
      "\u001b[1;31mAttributeError\u001b[0m                            Traceback (most recent call last)",
      "\u001b[1;32m<ipython-input-1-3383e13fedb4>\u001b[0m in \u001b[0;36m<module>\u001b[1;34m\u001b[0m\n\u001b[0;32m      3\u001b[0m \u001b[0ma1\u001b[0m \u001b[1;33m=\u001b[0m \u001b[0mturtle\u001b[0m\u001b[1;33m.\u001b[0m\u001b[0mTurtle\u001b[0m\u001b[1;33m(\u001b[0m\u001b[1;33m)\u001b[0m\u001b[1;33m\u001b[0m\u001b[1;33m\u001b[0m\u001b[0m\n\u001b[0;32m      4\u001b[0m \u001b[0ma1\u001b[0m\u001b[1;33m.\u001b[0m\u001b[0mforward\u001b[0m\u001b[1;33m(\u001b[0m\u001b[1;36m100\u001b[0m\u001b[1;33m)\u001b[0m\u001b[1;33m\u001b[0m\u001b[1;33m\u001b[0m\u001b[0m\n\u001b[1;32m----> 5\u001b[1;33m \u001b[0ma1\u001b[0m\u001b[1;33m.\u001b[0m\u001b[0mdone\u001b[0m\u001b[1;33m(\u001b[0m\u001b[1;33m)\u001b[0m\u001b[1;33m\u001b[0m\u001b[1;33m\u001b[0m\u001b[0m\n\u001b[0m\u001b[0;32m      6\u001b[0m \u001b[1;33m\u001b[0m\u001b[0m\n",
      "\u001b[1;31mAttributeError\u001b[0m: 'Turtle' object has no attribute 'done'"
     ]
    }
   ],
   "source": [
    "import turtle\n",
    "import math\n",
    "a1 = turtle.Turtle()\n",
    "a1.forward(100)\n",
    "a1.done()\n",
    "\n"
   ]
  },
  {
   "cell_type": "code",
   "execution_count": 28,
   "metadata": {},
   "outputs": [
    {
     "name": "stdout",
     "output_type": "stream",
     "text": [
      "4 6 58 40 98 0 8 39 26 68 "
     ]
    }
   ],
   "source": [
    "# random number\n",
    "import random\n",
    "def generateRandom(n,lb,ub):\n",
    "    for i in range(0,n):\n",
    "        print (random.randint(lb,ub),end = ' ')\n",
    "    return\n",
    "generateRandom(10,0,100)"
   ]
  },
  {
   "cell_type": "code",
   "execution_count": 33,
   "metadata": {},
   "outputs": [
    {
     "data": {
      "text/plain": [
       "[76, 66, 28, 69, 73, 22, 80, 66, 50, 37]"
      ]
     },
     "execution_count": 33,
     "metadata": {},
     "output_type": "execute_result"
    }
   ],
   "source": [
    "from random import randint as rint\n",
    "def generateRandom(n,lb,ub):\n",
    "    li = []\n",
    "    for i in range(0,n):\n",
    "        li.append(rint(lb,ub))\n",
    "    return li\n",
    "generateRandom(10,0,100)"
   ]
  },
  {
   "cell_type": "code",
   "execution_count": 427,
   "metadata": {},
   "outputs": [
    {
     "name": "stdout",
     "output_type": "stream",
     "text": [
      "Congo !\n"
     ]
    }
   ],
   "source": [
    "def check(n):\n",
    "    li = generateRandom(20,100,999)\n",
    "    if n in li:\n",
    "        print(\"Congo !\")\n",
    "    else:\n",
    "        print(\"Try Again :( \")\n",
    "    return\n",
    "check(660)"
   ]
  },
  {
   "cell_type": "code",
   "execution_count": null,
   "metadata": {},
   "outputs": [],
   "source": [
    "import turtle as tt\n",
    "a1 = tt.Turtle()\n",
    "a1.goto(0,0)\n",
    "a1.backward(100)\n",
    "tt.done()"
   ]
  },
  {
   "cell_type": "code",
   "execution_count": null,
   "metadata": {},
   "outputs": [],
   "source": [
    "\n"
   ]
  }
 ],
 "metadata": {
  "kernelspec": {
   "display_name": "Python 3",
   "language": "python",
   "name": "python3"
  },
  "language_info": {
   "codemirror_mode": {
    "name": "ipython",
    "version": 3
   },
   "file_extension": ".py",
   "mimetype": "text/x-python",
   "name": "python",
   "nbconvert_exporter": "python",
   "pygments_lexer": "ipython3",
   "version": "3.7.3"
  }
 },
 "nbformat": 4,
 "nbformat_minor": 2
}
